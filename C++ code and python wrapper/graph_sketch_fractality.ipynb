{
 "cells": [
  {
   "cell_type": "code",
   "execution_count": null,
   "id": "e5879694",
   "metadata": {
    "scrolled": true
   },
   "outputs": [],
   "source": [
    "# Cell 1: Setting up the source code\n",
    "\n",
    "import subprocess\n",
    "import shlex\n",
    "\n",
    "subprocess.run(shlex.split('python ./waf-2.0.24 configure'))\n",
    "subprocess.run(shlex.split('python ./waf-2.0.24'))"
   ]
  },
  {
   "cell_type": "code",
   "execution_count": null,
   "id": "d9bdac1b",
   "metadata": {},
   "outputs": [],
   "source": [
    "# Cell 2: Converting the shell command to a python method- runAlgorithm\n",
    "\n",
    "\n",
    "# import subprocess\n",
    "# import shlex\n",
    "\n",
    "\n",
    "def runAlgorithm(**kwargs):\n",
    "    \n",
    "    # Default arguments of the method:\n",
    "    default_args = {'type': 'gen', 'graph': \"flower 1000 1 2\", 'method': 'sketch', 'alpha': '1', 'least_coverage': '1',\n",
    "           'sketch_k': '128', 'multipass': '10000', 'rad_min': '1', 'rad_max': '30', 'random_seed': '114514'}\n",
    "    \n",
    "    options = \"\"\n",
    "    \n",
    "    for key in kwargs:\n",
    "        default_args[key] = kwargs[key]\n",
    "        \n",
    "    if default_args['type'] == 'gen':\n",
    "        a = default_args['graph']\n",
    "        default_args['graph'] = f'\"{a}\"'\n",
    "            \n",
    "    for key in default_args:\n",
    "        options += f\" -{key}={default_args[key]}\"\n",
    "        \n",
    "    subprocess.run(shlex.split(f\"./bin/box_cover {options}\"))"
   ]
  },
  {
   "cell_type": "code",
   "execution_count": null,
   "id": "1033d42e",
   "metadata": {
    "scrolled": true
   },
   "outputs": [],
   "source": [
    "# Cell 3: Using the runAlgorithm method\n",
    "\n",
    "# Intended arguments should necessarily be passed to the method in the arg = 'value' form.\n",
    "\n",
    "# If no argument is passed while calling, the 10 default arguments will be used.\n",
    "\n",
    "runAlgorithm(graph = \"flower 2500 1 2\")"
   ]
  },
  {
   "cell_type": "code",
   "execution_count": null,
   "id": "3fca8321",
   "metadata": {},
   "outputs": [],
   "source": [
    "# Cell 4: printing the results\n",
    "\n",
    "import glob\n",
    "import os\n",
    "import json\n",
    "\n",
    "\n",
    "list_of_files = glob.glob('./jlog/*')\n",
    "latest_file = max(list_of_files, key=os.path.getctime)\n",
    "\n",
    "f = open(latest_file, \"r\").read()\n",
    "json_file = json.loads(f)\n",
    "\n",
    "radius = json_file['radius']\n",
    "size = json_file['size']\n",
    "\n",
    "print (f\"radius: \\n{radius}\\n\")\n",
    "print (f\"size: \\n{size}\")\n",
    "# json_file"
   ]
  }
 ],
 "metadata": {
  "kernelspec": {
   "display_name": "Python 3 (ipykernel)",
   "language": "python",
   "name": "python3"
  },
  "language_info": {
   "codemirror_mode": {
    "name": "ipython",
    "version": 3
   },
   "file_extension": ".py",
   "mimetype": "text/x-python",
   "name": "python",
   "nbconvert_exporter": "python",
   "pygments_lexer": "ipython3",
   "version": "3.11.0"
  }
 },
 "nbformat": 4,
 "nbformat_minor": 5
}
